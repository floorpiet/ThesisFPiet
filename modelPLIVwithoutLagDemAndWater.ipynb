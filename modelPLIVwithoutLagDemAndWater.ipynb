{
 "cells": [
  {
   "cell_type": "markdown",
   "metadata": {},
   "source": [
    "# Patially Linear IV models using Double Machine Learning"
   ]
  },
  {
   "attachments": {},
   "cell_type": "markdown",
   "metadata": {},
   "source": [
    "Without water"
   ]
  },
  {
   "cell_type": "code",
   "execution_count": 1,
   "metadata": {},
   "outputs": [],
   "source": [
    "# import necessary packages\n",
    "import numpy as np\n",
    "import pandas as pd\n",
    "from sklearn.model_selection import train_test_split\n",
    "import statsmodels.api\n",
    "import scipy\n",
    "import statsmodels\n",
    "from sklearn.base import clone\n",
    "import doubleml as dml\n",
    "from sklearn.metrics import mean_squared_error\n",
    "import xgboost as xgb\n",
    "from sklearn.ensemble import RandomForestRegressor\n",
    "from sklearn.model_selection import GridSearchCV\n",
    "from sklearn.linear_model import LassoCV, Lasso\n",
    "import seaborn as sns\n",
    "import matplotlib.pyplot as plt\n",
    "pd.options.display.max_rows = 4000\n",
    "pd.options.display.max_columns = 4000"
   ]
  },
  {
   "cell_type": "code",
   "execution_count": 2,
   "metadata": {},
   "outputs": [],
   "source": [
    "#import transformed dataset that's ready for use\n",
    "df_log=pd.read_csv(\"dataframe_transformed_4_log.csv\")"
   ]
  },
  {
   "cell_type": "code",
   "execution_count": 3,
   "metadata": {},
   "outputs": [],
   "source": [
    "df_log=df_log[df_log['ARTICLE_CAT_2_WATER']==0]"
   ]
  },
  {
   "cell_type": "code",
   "execution_count": 4,
   "metadata": {},
   "outputs": [],
   "source": [
    "#Some additional transformations:\n",
    "\n",
    "# The zero demand observations become -infinity because of the log-transformation\n",
    "# These values should be deleted or replaced:\n",
    "    # the observations with zero demand will be deleted, however in the lagged demand variable this data is still needed\n",
    "    # So choose a value to impute these -infinity values with: Preferably np.NaN such that no bias will occur\n",
    "\n",
    "# Based on what first stage method you will use, it may or may not be able to handle missing values. \n",
    "# Create an imputed value for the methods that cannot use NaNs\n",
    "# Here: the missing values are most often referring to a promo period, hence a MAX value for demand is imputed to act as a surrogate for this promo demand.\n",
    "\n",
    "\n",
    "# Include dummy variab;e for holidays and other special dates that can explain irregular demand\n",
    "listofHolidays=[\"2020-12-28\",\n",
    "                \"2021-01-04\",\n",
    "                \"2021-03-29\",\n",
    "                \"2021-05-03\",\n",
    "                \"2021-07-26\",\n",
    "                \"2021-08-02\",\n",
    "                \"2021-08-09\",\n",
    "                \"2021-08-16\",\n",
    "                \"2021-12-27\",\n",
    "                \"2022-01-03\",\n",
    "                \"2022-04-11\",\n",
    "                \"2022-05-02\",\n",
    "                \"2022-07-25\",\n",
    "                \"2022-08-01\",\n",
    "                \"2022-08-08\",\n",
    "                \"2022-08-15\",\n",
    "                \"2022-12-26\"\n",
    "                ]\n",
    "df_log['HOLIDAY']=(df_log['WEEK_START_DATE'].isin(listofHolidays))*1\n",
    "\n",
    "# non-log-transformed week number (do not need log-interpretatation of this variable (\"percentage increase in week number leads to percentage change in demand or price\" --> should be \"absolute change in weeks lead to percentage change demand/price\")\n",
    "# (inflation measure)\n",
    "df_log['WEEK_NR']=np.round(np.exp(df_log['L_WEEK_NR']))"
   ]
  },
  {
   "cell_type": "markdown",
   "metadata": {},
   "source": [
    "Model set up: create datasets\n"
   ]
  },
  {
   "cell_type": "code",
   "execution_count": 5,
   "metadata": {},
   "outputs": [],
   "source": [
    "x_lasso= df_log[['CONST','ARTICLE_TIER_BETTER', 'ARTICLE_TIER_GOOD',\n",
    "       'ART_BRAND_TIER_PRICE_ENTRY', 'ART_BRAND_TIER_PRIVATE_LABEL',\n",
    "       'PACKAGING_BOX', 'PACKAGING_CAN', 'PACKAGING_PACK',\n",
    "       'ARTICLE_CAT_2_DRINKPAKJES', 'ARTICLE_CAT_2_FRUITDRANK',\n",
    "       'ARTICLE_CAT_2_IJSTHEE', 'ARTICLE_CAT_2_LIMONADE_SIROPEN',\n",
    "       'ARTICLE_CAT_2_SAPPEN_SMOOTHIES', 'ARTICLE_CAT_2_SINAS_LEMON_CASSIS',\n",
    "       'ARTICLE_CAT_2_SPECIAAL_FRIS', 'ARTICLE_CAT_2_SPORT_ENERGYDRINK',\n",
    "       # 'ARTICLE_CAT_2_WATER', \n",
    "       'PROMO_DUMMY', \n",
    "       'PPL2','PPL3', 'POSTPPL1', 'POSTPPL2','POSTPPL3', \n",
    "       'L_AVG_HIGH_TEMP',#'L_TOTAL_ORDER_AMT',\n",
    "       'L_NR_ARTICLES_IN_CAT', \n",
    "       'L_NR_ARTICLES_IN_CAT_2',  #'L_WEEK_NR',\n",
    "       'AVG_UNAVAILABILITY_PERC',\n",
    "       'ART_CONTENT_VOLUME', 'ART_IS_MULTIPACK', \n",
    "       # 'L_PRODUCT_ORDER_AMT_T_2_m','L_PRODUCT_ORDER_AMT_T_1_m' , # use imputed value instead of NaN\n",
    "       # 'L_PRODUCT_ORDER_AMT_T_1', 'L_PRODUCT_ORDER_AMT_T_2',\n",
    "       'HOLIDAY', 'WEEK_NR'\n",
    "       ]]\n",
    "y_lasso = df_log['L_PRODUCT_ORDER_AMT']\n",
    "p_lasso = df_log['L_AVG_SELL_PRICE']\n",
    "z_lasso = df_log['L_AVG_PURCHASE_PRICE']\n",
    "\n",
    "naiveset_lasso=x_lasso.join(p_lasso.to_frame()) # For OLS\n",
    "dmlset_lasso=x_lasso.join(y_lasso.to_frame().join(p_lasso.to_frame().join(z_lasso.to_frame()))) #needed in dml algortihm"
   ]
  },
  {
   "cell_type": "code",
   "execution_count": 6,
   "metadata": {},
   "outputs": [],
   "source": [
    "x_lasso_train, x_lasso_test, y_lasso_train, y_lasso_test, p_lasso_train, p_lasso_test, z_lasso_train, z_lasso_test, naiveset_lasso_train, naiveset_lasso_test, dmlset_lasso_train, dmlset_lasso_test = train_test_split(x_lasso,y_lasso,p_lasso,z_lasso,naiveset_lasso, dmlset_lasso,random_state=44) #in case want to see how first stages perform"
   ]
  },
  {
   "cell_type": "markdown",
   "metadata": {},
   "source": [
    "Naive models:\n"
   ]
  },
  {
   "cell_type": "markdown",
   "metadata": {},
   "source": [
    "OLS:"
   ]
  },
  {
   "cell_type": "code",
   "execution_count": 7,
   "metadata": {},
   "outputs": [
    {
     "data": {
      "text/html": [
       "<table class=\"simpletable\">\n",
       "<caption>OLS Estimation Summary</caption>\n",
       "<tr>\n",
       "  <th>Dep. Variable:</th>    <td>L_PRODUCT_ORDER_AMT</td> <th>  R-squared:         </th>  <td>0.3144</td>  \n",
       "</tr>\n",
       "<tr>\n",
       "  <th>Estimator:</th>                <td>OLS</td>         <th>  Adj. R-squared:    </th>  <td>0.3139</td>  \n",
       "</tr>\n",
       "<tr>\n",
       "  <th>No. Observations:</th>        <td>47920</td>        <th>  F-statistic:       </th> <td>2.197e+04</td>\n",
       "</tr>\n",
       "<tr>\n",
       "  <th>Date:</th>              <td>Tue, Mar 14 2023</td>   <th>  P-value (F-stat)   </th>  <td>0.0000</td>  \n",
       "</tr>\n",
       "<tr>\n",
       "  <th>Time:</th>                  <td>13:27:40</td>       <th>  Distribution:      </th> <td>chi2(30)</td> \n",
       "</tr>\n",
       "<tr>\n",
       "  <th>Cov. Estimator:</th>       <td>unadjusted</td>      <th>                     </th>     <td></td>     \n",
       "</tr>\n",
       "<tr>\n",
       "  <th></th>                           <td></td>           <th>                     </th>     <td></td>     \n",
       "</tr>\n",
       "</table>\n",
       "<table class=\"simpletable\">\n",
       "<caption>Parameter Estimates</caption>\n",
       "<tr>\n",
       "                  <td></td>                 <th>Parameter</th> <th>Std. Err.</th> <th>T-stat</th>  <th>P-value</th> <th>Lower CI</th> <th>Upper CI</th>\n",
       "</tr>\n",
       "<tr>\n",
       "  <th>CONST</th>                             <td>28.234</td>    <td>1.0889</td>   <td>25.929</td>  <td>0.0000</td>   <td>26.100</td>   <td>30.369</td> \n",
       "</tr>\n",
       "<tr>\n",
       "  <th>ARTICLE_TIER_BETTER</th>               <td>0.3045</td>    <td>0.0174</td>   <td>17.470</td>  <td>0.0000</td>   <td>0.2703</td>   <td>0.3387</td> \n",
       "</tr>\n",
       "<tr>\n",
       "  <th>ARTICLE_TIER_GOOD</th>                 <td>1.1371</td>    <td>0.0355</td>   <td>32.037</td>  <td>0.0000</td>   <td>1.0675</td>   <td>1.2066</td> \n",
       "</tr>\n",
       "<tr>\n",
       "  <th>ART_BRAND_TIER_PRICE_ENTRY</th>        <td>-1.2405</td>   <td>0.0581</td>   <td>-21.341</td> <td>0.0000</td>   <td>-1.3544</td>  <td>-1.1266</td>\n",
       "</tr>\n",
       "<tr>\n",
       "  <th>ART_BRAND_TIER_PRIVATE_LABEL</th>      <td>-0.7709</td>   <td>0.0275</td>   <td>-27.984</td> <td>0.0000</td>   <td>-0.8249</td>  <td>-0.7169</td>\n",
       "</tr>\n",
       "<tr>\n",
       "  <th>PACKAGING_BOX</th>                     <td>1.4741</td>    <td>0.0603</td>   <td>24.445</td>  <td>0.0000</td>   <td>1.3559</td>   <td>1.5923</td> \n",
       "</tr>\n",
       "<tr>\n",
       "  <th>PACKAGING_CAN</th>                     <td>0.3364</td>    <td>0.0635</td>   <td>5.2999</td>  <td>0.0000</td>   <td>0.2120</td>   <td>0.4608</td> \n",
       "</tr>\n",
       "<tr>\n",
       "  <th>PACKAGING_PACK</th>                    <td>0.4260</td>    <td>0.0209</td>   <td>20.414</td>  <td>0.0000</td>   <td>0.3851</td>   <td>0.4669</td> \n",
       "</tr>\n",
       "<tr>\n",
       "  <th>ARTICLE_CAT_2_DRINKPAKJES</th>         <td>-2.2211</td>   <td>0.0885</td>   <td>-25.092</td> <td>0.0000</td>   <td>-2.3946</td>  <td>-2.0477</td>\n",
       "</tr>\n",
       "<tr>\n",
       "  <th>ARTICLE_CAT_2_FRUITDRANK</th>          <td>-1.8015</td>   <td>0.0375</td>   <td>-48.054</td> <td>0.0000</td>   <td>-1.8750</td>  <td>-1.7280</td>\n",
       "</tr>\n",
       "<tr>\n",
       "  <th>ARTICLE_CAT_2_IJSTHEE</th>             <td>-1.5945</td>   <td>0.0889</td>   <td>-17.941</td> <td>0.0000</td>   <td>-1.7687</td>  <td>-1.4203</td>\n",
       "</tr>\n",
       "<tr>\n",
       "  <th>ARTICLE_CAT_2_LIMONADE_SIROPEN</th>    <td>-1.0750</td>   <td>0.0482</td>   <td>-22.280</td> <td>0.0000</td>   <td>-1.1696</td>  <td>-0.9804</td>\n",
       "</tr>\n",
       "<tr>\n",
       "  <th>ARTICLE_CAT_2_SAPPEN_SMOOTHIES</th>    <td>-1.0542</td>   <td>0.0475</td>   <td>-22.187</td> <td>0.0000</td>   <td>-1.1473</td>  <td>-0.9611</td>\n",
       "</tr>\n",
       "<tr>\n",
       "  <th>ARTICLE_CAT_2_SINAS_LEMON_CASSIS</th>  <td>-0.8364</td>   <td>0.0421</td>   <td>-19.848</td> <td>0.0000</td>   <td>-0.9190</td>  <td>-0.7538</td>\n",
       "</tr>\n",
       "<tr>\n",
       "  <th>ARTICLE_CAT_2_SPECIAAL_FRIS</th>       <td>-1.2156</td>   <td>0.0288</td>   <td>-42.223</td> <td>0.0000</td>   <td>-1.2721</td>  <td>-1.1592</td>\n",
       "</tr>\n",
       "<tr>\n",
       "  <th>ARTICLE_CAT_2_SPORT_ENERGYDRINK</th>   <td>-1.1217</td>   <td>0.1061</td>   <td>-10.576</td> <td>0.0000</td>   <td>-1.3296</td>  <td>-0.9139</td>\n",
       "</tr>\n",
       "<tr>\n",
       "  <th>PROMO_DUMMY</th>                       <td>-1.1134</td>   <td>0.0369</td>   <td>-30.161</td> <td>0.0000</td>   <td>-1.1858</td>  <td>-1.0411</td>\n",
       "</tr>\n",
       "<tr>\n",
       "  <th>PPL2</th>                              <td>0.1219</td>    <td>0.0251</td>   <td>4.8526</td>  <td>0.0000</td>   <td>0.0727</td>   <td>0.1712</td> \n",
       "</tr>\n",
       "<tr>\n",
       "  <th>PPL3</th>                              <td>-0.0350</td>   <td>0.0250</td>   <td>-1.3984</td> <td>0.1620</td>   <td>-0.0841</td>  <td>0.0141</td> \n",
       "</tr>\n",
       "<tr>\n",
       "  <th>POSTPPL1</th>                          <td>-0.2236</td>   <td>0.0295</td>   <td>-7.5882</td> <td>0.0000</td>   <td>-0.2813</td>  <td>-0.1658</td>\n",
       "</tr>\n",
       "<tr>\n",
       "  <th>POSTPPL2</th>                          <td>-0.0836</td>   <td>0.0295</td>   <td>-2.8367</td> <td>0.0046</td>   <td>-0.1413</td>  <td>-0.0258</td>\n",
       "</tr>\n",
       "<tr>\n",
       "  <th>POSTPPL3</th>                          <td>-0.1887</td>   <td>0.0295</td>   <td>-6.4016</td> <td>0.0000</td>   <td>-0.2464</td>  <td>-0.1309</td>\n",
       "</tr>\n",
       "<tr>\n",
       "  <th>L_AVG_HIGH_TEMP</th>                   <td>0.0244</td>    <td>0.0077</td>   <td>3.1660</td>  <td>0.0015</td>   <td>0.0093</td>   <td>0.0395</td> \n",
       "</tr>\n",
       "<tr>\n",
       "  <th>L_NR_ARTICLES_IN_CAT</th>              <td>-2.1936</td>   <td>0.1940</td>   <td>-11.309</td> <td>0.0000</td>   <td>-2.5737</td>  <td>-1.8134</td>\n",
       "</tr>\n",
       "<tr>\n",
       "  <th>L_NR_ARTICLES_IN_CAT_2</th>            <td>-0.6591</td>   <td>0.0884</td>   <td>-7.4594</td> <td>0.0000</td>   <td>-0.8323</td>  <td>-0.4859</td>\n",
       "</tr>\n",
       "<tr>\n",
       "  <th>AVG_UNAVAILABILITY_PERC</th>           <td>-0.0211</td>   <td>0.0006</td>   <td>-34.459</td> <td>0.0000</td>   <td>-0.0223</td>  <td>-0.0199</td>\n",
       "</tr>\n",
       "<tr>\n",
       "  <th>ART_CONTENT_VOLUME</th>                <td>0.0005</td>   <td>1.472e-05</td> <td>32.635</td>  <td>0.0000</td>   <td>0.0005</td>   <td>0.0005</td> \n",
       "</tr>\n",
       "<tr>\n",
       "  <th>ART_IS_MULTIPACK</th>                  <td>-0.2892</td>   <td>0.0701</td>   <td>-4.1240</td> <td>0.0000</td>   <td>-0.4267</td>  <td>-0.1518</td>\n",
       "</tr>\n",
       "<tr>\n",
       "  <th>HOLIDAY</th>                           <td>-0.1359</td>   <td>0.0137</td>   <td>-9.9204</td> <td>0.0000</td>   <td>-0.1628</td>  <td>-0.1091</td>\n",
       "</tr>\n",
       "<tr>\n",
       "  <th>WEEK_NR</th>                           <td>0.0002</td>    <td>0.0003</td>   <td>0.9008</td>  <td>0.3677</td>   <td>-0.0003</td>  <td>0.0007</td> \n",
       "</tr>\n",
       "<tr>\n",
       "  <th>L_AVG_SELL_PRICE</th>                  <td>-0.9868</td>   <td>0.0254</td>   <td>-38.847</td> <td>0.0000</td>   <td>-1.0365</td>  <td>-0.9370</td>\n",
       "</tr>\n",
       "</table><br/>id: 0x201508cffa0"
      ],
      "text/plain": [
       "                             OLS Estimation Summary                            \n",
       "===============================================================================\n",
       "Dep. Variable:     L_PRODUCT_ORDER_AMT   R-squared:                      0.3144\n",
       "Estimator:                         OLS   Adj. R-squared:                 0.3139\n",
       "No. Observations:                47920   F-statistic:                 2.197e+04\n",
       "Date:                 Tue, Mar 14 2023   P-value (F-stat)                0.0000\n",
       "Time:                         13:27:40   Distribution:                 chi2(30)\n",
       "Cov. Estimator:             unadjusted                                         \n",
       "                                                                               \n",
       "                                        Parameter Estimates                                         \n",
       "====================================================================================================\n",
       "                                  Parameter  Std. Err.     T-stat    P-value    Lower CI    Upper CI\n",
       "----------------------------------------------------------------------------------------------------\n",
       "CONST                                28.234     1.0889     25.929     0.0000      26.100      30.369\n",
       "ARTICLE_TIER_BETTER                  0.3045     0.0174     17.470     0.0000      0.2703      0.3387\n",
       "ARTICLE_TIER_GOOD                    1.1371     0.0355     32.037     0.0000      1.0675      1.2066\n",
       "ART_BRAND_TIER_PRICE_ENTRY          -1.2405     0.0581    -21.341     0.0000     -1.3544     -1.1266\n",
       "ART_BRAND_TIER_PRIVATE_LABEL        -0.7709     0.0275    -27.984     0.0000     -0.8249     -0.7169\n",
       "PACKAGING_BOX                        1.4741     0.0603     24.445     0.0000      1.3559      1.5923\n",
       "PACKAGING_CAN                        0.3364     0.0635     5.2999     0.0000      0.2120      0.4608\n",
       "PACKAGING_PACK                       0.4260     0.0209     20.414     0.0000      0.3851      0.4669\n",
       "ARTICLE_CAT_2_DRINKPAKJES           -2.2211     0.0885    -25.092     0.0000     -2.3946     -2.0477\n",
       "ARTICLE_CAT_2_FRUITDRANK            -1.8015     0.0375    -48.054     0.0000     -1.8750     -1.7280\n",
       "ARTICLE_CAT_2_IJSTHEE               -1.5945     0.0889    -17.941     0.0000     -1.7687     -1.4203\n",
       "ARTICLE_CAT_2_LIMONADE_SIROPEN      -1.0750     0.0482    -22.280     0.0000     -1.1696     -0.9804\n",
       "ARTICLE_CAT_2_SAPPEN_SMOOTHIES      -1.0542     0.0475    -22.187     0.0000     -1.1473     -0.9611\n",
       "ARTICLE_CAT_2_SINAS_LEMON_CASSIS    -0.8364     0.0421    -19.848     0.0000     -0.9190     -0.7538\n",
       "ARTICLE_CAT_2_SPECIAAL_FRIS         -1.2156     0.0288    -42.223     0.0000     -1.2721     -1.1592\n",
       "ARTICLE_CAT_2_SPORT_ENERGYDRINK     -1.1217     0.1061    -10.576     0.0000     -1.3296     -0.9139\n",
       "PROMO_DUMMY                         -1.1134     0.0369    -30.161     0.0000     -1.1858     -1.0411\n",
       "PPL2                                 0.1219     0.0251     4.8526     0.0000      0.0727      0.1712\n",
       "PPL3                                -0.0350     0.0250    -1.3984     0.1620     -0.0841      0.0141\n",
       "POSTPPL1                            -0.2236     0.0295    -7.5882     0.0000     -0.2813     -0.1658\n",
       "POSTPPL2                            -0.0836     0.0295    -2.8367     0.0046     -0.1413     -0.0258\n",
       "POSTPPL3                            -0.1887     0.0295    -6.4016     0.0000     -0.2464     -0.1309\n",
       "L_AVG_HIGH_TEMP                      0.0244     0.0077     3.1660     0.0015      0.0093      0.0395\n",
       "L_NR_ARTICLES_IN_CAT                -2.1936     0.1940    -11.309     0.0000     -2.5737     -1.8134\n",
       "L_NR_ARTICLES_IN_CAT_2              -0.6591     0.0884    -7.4594     0.0000     -0.8323     -0.4859\n",
       "AVG_UNAVAILABILITY_PERC             -0.0211     0.0006    -34.459     0.0000     -0.0223     -0.0199\n",
       "ART_CONTENT_VOLUME                   0.0005  1.472e-05     32.635     0.0000      0.0005      0.0005\n",
       "ART_IS_MULTIPACK                    -0.2892     0.0701    -4.1240     0.0000     -0.4267     -0.1518\n",
       "HOLIDAY                             -0.1359     0.0137    -9.9204     0.0000     -0.1628     -0.1091\n",
       "WEEK_NR                              0.0002     0.0003     0.9008     0.3677     -0.0003      0.0007\n",
       "L_AVG_SELL_PRICE                    -0.9868     0.0254    -38.847     0.0000     -1.0365     -0.9370\n",
       "====================================================================================================\n",
       "OLSResults, id: 0x201508cffa0"
      ]
     },
     "execution_count": 7,
     "metadata": {},
     "output_type": "execute_result"
    }
   ],
   "source": [
    "from linearmodels.iv import IV2SLS\n",
    "# IV2SLS(dependent:,exog:,endog:,instru:,weights:)\n",
    "\n",
    "res_ols = IV2SLS(y_lasso_train, naiveset_lasso_train, None, None).fit(cov_type=\"unadjusted\")\n",
    "res_ols"
   ]
  },
  {
   "cell_type": "markdown",
   "metadata": {},
   "source": [
    "TSLS:"
   ]
  },
  {
   "cell_type": "code",
   "execution_count": 8,
   "metadata": {},
   "outputs": [
    {
     "data": {
      "text/html": [
       "<table class=\"simpletable\">\n",
       "<caption>IV-2SLS Estimation Summary</caption>\n",
       "<tr>\n",
       "  <th>Dep. Variable:</th>    <td>L_PRODUCT_ORDER_AMT</td> <th>  R-squared:         </th>  <td>0.3135</td>  \n",
       "</tr>\n",
       "<tr>\n",
       "  <th>Estimator:</th>              <td>IV-2SLS</td>       <th>  Adj. R-squared:    </th>  <td>0.3131</td>  \n",
       "</tr>\n",
       "<tr>\n",
       "  <th>No. Observations:</th>        <td>47920</td>        <th>  F-statistic:       </th> <td>1.928e+04</td>\n",
       "</tr>\n",
       "<tr>\n",
       "  <th>Date:</th>              <td>Tue, Mar 14 2023</td>   <th>  P-value (F-stat)   </th>  <td>0.0000</td>  \n",
       "</tr>\n",
       "<tr>\n",
       "  <th>Time:</th>                  <td>13:27:41</td>       <th>  Distribution:      </th> <td>chi2(30)</td> \n",
       "</tr>\n",
       "<tr>\n",
       "  <th>Cov. Estimator:</th>         <td>robust</td>        <th>                     </th>     <td></td>     \n",
       "</tr>\n",
       "<tr>\n",
       "  <th></th>                           <td></td>           <th>                     </th>     <td></td>     \n",
       "</tr>\n",
       "</table>\n",
       "<table class=\"simpletable\">\n",
       "<caption>Parameter Estimates</caption>\n",
       "<tr>\n",
       "                  <td></td>                  <th>Parameter</th> <th>Std. Err.</th> <th>T-stat</th>  <th>P-value</th> <th>Lower CI</th> <th>Upper CI</th>\n",
       "</tr>\n",
       "<tr>\n",
       "  <th>CONST</th>                              <td>27.228</td>    <td>1.0979</td>   <td>24.801</td>  <td>0.0000</td>   <td>25.076</td>   <td>29.380</td> \n",
       "</tr>\n",
       "<tr>\n",
       "  <th>ARTICLE_TIER_BETTER</th>                <td>0.3775</td>    <td>0.0198</td>   <td>19.102</td>  <td>0.0000</td>   <td>0.3387</td>   <td>0.4162</td> \n",
       "</tr>\n",
       "<tr>\n",
       "  <th>ARTICLE_TIER_GOOD</th>                  <td>1.2925</td>    <td>0.0389</td>   <td>33.202</td>  <td>0.0000</td>   <td>1.2162</td>   <td>1.3688</td> \n",
       "</tr>\n",
       "<tr>\n",
       "  <th>ART_BRAND_TIER_PRICE_ENTRY</th>         <td>-1.2387</td>   <td>0.0517</td>   <td>-23.969</td> <td>0.0000</td>   <td>-1.3400</td>  <td>-1.1374</td>\n",
       "</tr>\n",
       "<tr>\n",
       "  <th>ART_BRAND_TIER_PRIVATE_LABEL</th>       <td>-0.7590</td>   <td>0.0257</td>   <td>-29.547</td> <td>0.0000</td>   <td>-0.8094</td>  <td>-0.7087</td>\n",
       "</tr>\n",
       "<tr>\n",
       "  <th>PACKAGING_BOX</th>                      <td>1.4077</td>    <td>0.0540</td>   <td>26.068</td>  <td>0.0000</td>   <td>1.3018</td>   <td>1.5135</td> \n",
       "</tr>\n",
       "<tr>\n",
       "  <th>PACKAGING_CAN</th>                      <td>0.5192</td>    <td>0.0659</td>   <td>7.8834</td>  <td>0.0000</td>   <td>0.3901</td>   <td>0.6483</td> \n",
       "</tr>\n",
       "<tr>\n",
       "  <th>PACKAGING_PACK</th>                     <td>0.4240</td>    <td>0.0216</td>   <td>19.665</td>  <td>0.0000</td>   <td>0.3818</td>   <td>0.4663</td> \n",
       "</tr>\n",
       "<tr>\n",
       "  <th>ARTICLE_CAT_2_DRINKPAKJES</th>          <td>-2.0082</td>   <td>0.0904</td>   <td>-22.217</td> <td>0.0000</td>   <td>-2.1854</td>  <td>-1.8310</td>\n",
       "</tr>\n",
       "<tr>\n",
       "  <th>ARTICLE_CAT_2_FRUITDRANK</th>           <td>-1.8130</td>   <td>0.0381</td>   <td>-47.630</td> <td>0.0000</td>   <td>-1.8877</td>  <td>-1.7384</td>\n",
       "</tr>\n",
       "<tr>\n",
       "  <th>ARTICLE_CAT_2_IJSTHEE</th>              <td>-1.5797</td>   <td>0.0909</td>   <td>-17.376</td> <td>0.0000</td>   <td>-1.7579</td>  <td>-1.4015</td>\n",
       "</tr>\n",
       "<tr>\n",
       "  <th>ARTICLE_CAT_2_LIMONADE_SIROPEN</th>     <td>-1.1910</td>   <td>0.0516</td>   <td>-23.090</td> <td>0.0000</td>   <td>-1.2921</td>  <td>-1.0899</td>\n",
       "</tr>\n",
       "<tr>\n",
       "  <th>ARTICLE_CAT_2_SAPPEN_SMOOTHIES</th>     <td>-1.1158</td>   <td>0.0501</td>   <td>-22.271</td> <td>0.0000</td>   <td>-1.2140</td>  <td>-1.0176</td>\n",
       "</tr>\n",
       "<tr>\n",
       "  <th>ARTICLE_CAT_2_SINAS_LEMON_CASSIS</th>   <td>-0.8281</td>   <td>0.0441</td>   <td>-18.796</td> <td>0.0000</td>   <td>-0.9145</td>  <td>-0.7418</td>\n",
       "</tr>\n",
       "<tr>\n",
       "  <th>ARTICLE_CAT_2_SPECIAAL_FRIS</th>        <td>-1.2634</td>   <td>0.0305</td>   <td>-41.408</td> <td>0.0000</td>   <td>-1.3232</td>  <td>-1.2036</td>\n",
       "</tr>\n",
       "<tr>\n",
       "  <th>ARTICLE_CAT_2_SPORT_ENERGYDRINK</th>    <td>-1.1830</td>   <td>0.1100</td>   <td>-10.755</td> <td>0.0000</td>   <td>-1.3986</td>  <td>-0.9674</td>\n",
       "</tr>\n",
       "<tr>\n",
       "  <th>PROMO_DUMMY</th>                        <td>-1.1170</td>   <td>0.0680</td>   <td>-16.426</td> <td>0.0000</td>   <td>-1.2503</td>  <td>-0.9837</td>\n",
       "</tr>\n",
       "<tr>\n",
       "  <th>PPL2</th>                               <td>0.1239</td>    <td>0.0250</td>   <td>4.9491</td>  <td>0.0000</td>   <td>0.0748</td>   <td>0.1729</td> \n",
       "</tr>\n",
       "<tr>\n",
       "  <th>PPL3</th>                               <td>-0.0341</td>   <td>0.0248</td>   <td>-1.3741</td> <td>0.1694</td>   <td>-0.0828</td>  <td>0.0146</td> \n",
       "</tr>\n",
       "<tr>\n",
       "  <th>POSTPPL1</th>                           <td>-0.2192</td>   <td>0.0295</td>   <td>-7.4239</td> <td>0.0000</td>   <td>-0.2770</td>  <td>-0.1613</td>\n",
       "</tr>\n",
       "<tr>\n",
       "  <th>POSTPPL2</th>                           <td>-0.0783</td>   <td>0.0297</td>   <td>-2.6352</td> <td>0.0084</td>   <td>-0.1365</td>  <td>-0.0201</td>\n",
       "</tr>\n",
       "<tr>\n",
       "  <th>POSTPPL3</th>                           <td>-0.1846</td>   <td>0.0296</td>   <td>-6.2384</td> <td>0.0000</td>   <td>-0.2426</td>  <td>-0.1266</td>\n",
       "</tr>\n",
       "<tr>\n",
       "  <th>L_AVG_HIGH_TEMP</th>                    <td>0.0254</td>    <td>0.0078</td>   <td>3.2345</td>  <td>0.0012</td>   <td>0.0100</td>   <td>0.0408</td> \n",
       "</tr>\n",
       "<tr>\n",
       "  <th>L_NR_ARTICLES_IN_CAT</th>               <td>-2.2062</td>   <td>0.1937</td>   <td>-11.387</td> <td>0.0000</td>   <td>-2.5860</td>  <td>-1.8265</td>\n",
       "</tr>\n",
       "<tr>\n",
       "  <th>L_NR_ARTICLES_IN_CAT_2</th>             <td>-0.6446</td>   <td>0.0926</td>   <td>-6.9574</td> <td>0.0000</td>   <td>-0.8261</td>  <td>-0.4630</td>\n",
       "</tr>\n",
       "<tr>\n",
       "  <th>AVG_UNAVAILABILITY_PERC</th>            <td>-0.0210</td>   <td>0.0008</td>   <td>-28.015</td> <td>0.0000</td>   <td>-0.0225</td>  <td>-0.0196</td>\n",
       "</tr>\n",
       "<tr>\n",
       "  <th>ART_CONTENT_VOLUME</th>                 <td>0.0005</td>   <td>1.447e-05</td> <td>32.891</td>  <td>0.0000</td>   <td>0.0004</td>   <td>0.0005</td> \n",
       "</tr>\n",
       "<tr>\n",
       "  <th>ART_IS_MULTIPACK</th>                   <td>-0.5872</td>   <td>0.0772</td>   <td>-7.6062</td> <td>0.0000</td>   <td>-0.7385</td>  <td>-0.4359</td>\n",
       "</tr>\n",
       "<tr>\n",
       "  <th>HOLIDAY</th>                            <td>-0.1360</td>   <td>0.0138</td>   <td>-9.8750</td> <td>0.0000</td>   <td>-0.1630</td>  <td>-0.1090</td>\n",
       "</tr>\n",
       "<tr>\n",
       "  <th>WEEK_NR</th>                          <td>-9.195e-05</td>  <td>0.0003</td>   <td>-0.3467</td> <td>0.7288</td>   <td>-0.0006</td>  <td>0.0004</td> \n",
       "</tr>\n",
       "<tr>\n",
       "  <th>L_AVG_SELL_PRICE</th>                   <td>-0.7894</td>   <td>0.0348</td>   <td>-22.680</td> <td>0.0000</td>   <td>-0.8576</td>  <td>-0.7212</td>\n",
       "</tr>\n",
       "</table><br/><br/>Endogenous: L_AVG_SELL_PRICE<br/>Instruments: L_AVG_PURCHASE_PRICE<br/>Robust Covariance (Heteroskedastic)<br/>Debiased: False<br/>id: 0x20151c83ee0"
      ],
      "text/plain": [
       "                           IV-2SLS Estimation Summary                          \n",
       "===============================================================================\n",
       "Dep. Variable:     L_PRODUCT_ORDER_AMT   R-squared:                      0.3135\n",
       "Estimator:                     IV-2SLS   Adj. R-squared:                 0.3131\n",
       "No. Observations:                47920   F-statistic:                 1.928e+04\n",
       "Date:                 Tue, Mar 14 2023   P-value (F-stat)                0.0000\n",
       "Time:                         13:27:41   Distribution:                 chi2(30)\n",
       "Cov. Estimator:                 robust                                         \n",
       "                                                                               \n",
       "                                        Parameter Estimates                                         \n",
       "====================================================================================================\n",
       "                                  Parameter  Std. Err.     T-stat    P-value    Lower CI    Upper CI\n",
       "----------------------------------------------------------------------------------------------------\n",
       "CONST                                27.228     1.0979     24.801     0.0000      25.076      29.380\n",
       "ARTICLE_TIER_BETTER                  0.3775     0.0198     19.102     0.0000      0.3387      0.4162\n",
       "ARTICLE_TIER_GOOD                    1.2925     0.0389     33.202     0.0000      1.2162      1.3688\n",
       "ART_BRAND_TIER_PRICE_ENTRY          -1.2387     0.0517    -23.969     0.0000     -1.3400     -1.1374\n",
       "ART_BRAND_TIER_PRIVATE_LABEL        -0.7590     0.0257    -29.547     0.0000     -0.8094     -0.7087\n",
       "PACKAGING_BOX                        1.4077     0.0540     26.068     0.0000      1.3018      1.5135\n",
       "PACKAGING_CAN                        0.5192     0.0659     7.8834     0.0000      0.3901      0.6483\n",
       "PACKAGING_PACK                       0.4240     0.0216     19.665     0.0000      0.3818      0.4663\n",
       "ARTICLE_CAT_2_DRINKPAKJES           -2.0082     0.0904    -22.217     0.0000     -2.1854     -1.8310\n",
       "ARTICLE_CAT_2_FRUITDRANK            -1.8130     0.0381    -47.630     0.0000     -1.8877     -1.7384\n",
       "ARTICLE_CAT_2_IJSTHEE               -1.5797     0.0909    -17.376     0.0000     -1.7579     -1.4015\n",
       "ARTICLE_CAT_2_LIMONADE_SIROPEN      -1.1910     0.0516    -23.090     0.0000     -1.2921     -1.0899\n",
       "ARTICLE_CAT_2_SAPPEN_SMOOTHIES      -1.1158     0.0501    -22.271     0.0000     -1.2140     -1.0176\n",
       "ARTICLE_CAT_2_SINAS_LEMON_CASSIS    -0.8281     0.0441    -18.796     0.0000     -0.9145     -0.7418\n",
       "ARTICLE_CAT_2_SPECIAAL_FRIS         -1.2634     0.0305    -41.408     0.0000     -1.3232     -1.2036\n",
       "ARTICLE_CAT_2_SPORT_ENERGYDRINK     -1.1830     0.1100    -10.755     0.0000     -1.3986     -0.9674\n",
       "PROMO_DUMMY                         -1.1170     0.0680    -16.426     0.0000     -1.2503     -0.9837\n",
       "PPL2                                 0.1239     0.0250     4.9491     0.0000      0.0748      0.1729\n",
       "PPL3                                -0.0341     0.0248    -1.3741     0.1694     -0.0828      0.0146\n",
       "POSTPPL1                            -0.2192     0.0295    -7.4239     0.0000     -0.2770     -0.1613\n",
       "POSTPPL2                            -0.0783     0.0297    -2.6352     0.0084     -0.1365     -0.0201\n",
       "POSTPPL3                            -0.1846     0.0296    -6.2384     0.0000     -0.2426     -0.1266\n",
       "L_AVG_HIGH_TEMP                      0.0254     0.0078     3.2345     0.0012      0.0100      0.0408\n",
       "L_NR_ARTICLES_IN_CAT                -2.2062     0.1937    -11.387     0.0000     -2.5860     -1.8265\n",
       "L_NR_ARTICLES_IN_CAT_2              -0.6446     0.0926    -6.9574     0.0000     -0.8261     -0.4630\n",
       "AVG_UNAVAILABILITY_PERC             -0.0210     0.0008    -28.015     0.0000     -0.0225     -0.0196\n",
       "ART_CONTENT_VOLUME                   0.0005  1.447e-05     32.891     0.0000      0.0004      0.0005\n",
       "ART_IS_MULTIPACK                    -0.5872     0.0772    -7.6062     0.0000     -0.7385     -0.4359\n",
       "HOLIDAY                             -0.1360     0.0138    -9.8750     0.0000     -0.1630     -0.1090\n",
       "WEEK_NR                          -9.195e-05     0.0003    -0.3467     0.7288     -0.0006      0.0004\n",
       "L_AVG_SELL_PRICE                    -0.7894     0.0348    -22.680     0.0000     -0.8576     -0.7212\n",
       "====================================================================================================\n",
       "\n",
       "Endogenous: L_AVG_SELL_PRICE\n",
       "Instruments: L_AVG_PURCHASE_PRICE\n",
       "Robust Covariance (Heteroskedastic)\n",
       "Debiased: False\n",
       "IVResults, id: 0x20151c83ee0"
      ]
     },
     "execution_count": 8,
     "metadata": {},
     "output_type": "execute_result"
    }
   ],
   "source": [
    "# IV2SLS(dependent:,exog:,endog:,instru:,weights:)\n",
    "res_tsls = IV2SLS(y_lasso_train, x_lasso_train, p_lasso_train, z_lasso_train).fit()\n",
    "res_tsls"
   ]
  },
  {
   "cell_type": "markdown",
   "metadata": {},
   "source": [
    "# DML Part"
   ]
  },
  {
   "cell_type": "markdown",
   "metadata": {},
   "source": [
    "Using Lasso first stage - hyperparameter alpha optimized during fitting as we use LassoCV instead of Lasso"
   ]
  },
  {
   "cell_type": "code",
   "execution_count": 9,
   "metadata": {},
   "outputs": [
    {
     "name": "stdout",
     "output_type": "stream",
     "text": [
      "================== DoubleMLPLIV Object ==================\n",
      "\n",
      "------------------ Data summary      ------------------\n",
      "Outcome variable: L_PRODUCT_ORDER_AMT\n",
      "Treatment variable(s): ['L_AVG_SELL_PRICE']\n",
      "Covariates: ['CONST', 'ARTICLE_TIER_BETTER', 'ARTICLE_TIER_GOOD', 'ART_BRAND_TIER_PRICE_ENTRY', 'ART_BRAND_TIER_PRIVATE_LABEL', 'PACKAGING_BOX', 'PACKAGING_CAN', 'PACKAGING_PACK', 'ARTICLE_CAT_2_DRINKPAKJES', 'ARTICLE_CAT_2_FRUITDRANK', 'ARTICLE_CAT_2_IJSTHEE', 'ARTICLE_CAT_2_LIMONADE_SIROPEN', 'ARTICLE_CAT_2_SAPPEN_SMOOTHIES', 'ARTICLE_CAT_2_SINAS_LEMON_CASSIS', 'ARTICLE_CAT_2_SPECIAAL_FRIS', 'ARTICLE_CAT_2_SPORT_ENERGYDRINK', 'PROMO_DUMMY', 'PPL2', 'PPL3', 'POSTPPL1', 'POSTPPL2', 'POSTPPL3', 'L_AVG_HIGH_TEMP', 'L_NR_ARTICLES_IN_CAT', 'L_NR_ARTICLES_IN_CAT_2', 'AVG_UNAVAILABILITY_PERC', 'ART_CONTENT_VOLUME', 'ART_IS_MULTIPACK', 'HOLIDAY', 'WEEK_NR']\n",
      "Instrument variable(s): ['L_AVG_PURCHASE_PRICE']\n",
      "No. Observations: 47920\n",
      "\n",
      "------------------ Score & algorithm ------------------\n",
      "Score function: partialling out\n",
      "DML algorithm: dml2\n",
      "\n",
      "------------------ Machine learner   ------------------\n",
      "Learner ml_l: LassoCV(cv=10)\n",
      "Learner ml_m: LassoCV(cv=10)\n",
      "Learner ml_r: LassoCV(cv=10)\n",
      "\n",
      "------------------ Resampling        ------------------\n",
      "No. folds: 5\n",
      "No. repeated sample splits: 1\n",
      "Apply cross-fitting: True\n",
      "\n",
      "------------------ Fit summary       ------------------\n",
      "                      coef   std err          t  P>|t|     2.5 %    97.5 %\n",
      "L_AVG_SELL_PRICE -0.853856  0.015347 -55.635508    0.0 -0.883936 -0.823776\n"
     ]
    }
   ],
   "source": [
    "# The actual model:\n",
    "\n",
    "#define first stage lasso_l, lasso_m, lasso_r\n",
    "lasso_l = LassoCV(fit_intercept=True, cv=10).fit(x_lasso_train,y_lasso_train)\n",
    "lasso_m = LassoCV(fit_intercept=True, cv=10).fit(x_lasso_train,z_lasso_train)\n",
    "lasso_r = LassoCV(fit_intercept=True, cv=10).fit(x_lasso_train,p_lasso_train)\n",
    "\n",
    "# Create correctly formatted data object based on dml package and DoubleMLData functionality\n",
    "obj_dml_data = dml.DoubleMLData(dmlset_lasso_train, 'L_PRODUCT_ORDER_AMT', 'L_AVG_SELL_PRICE', z_cols='L_AVG_PURCHASE_PRICE')\n",
    "\n",
    "# Use data object, defined first stages, number of cross-fitting splits (n_folds)\n",
    "dml_pliv_obj = dml.DoubleMLPLIV(obj_dml_data, lasso_l, lasso_m, lasso_r)\n",
    "\n",
    "#Print output\n",
    "print(dml_pliv_obj.fit().bootstrap())"
   ]
  },
  {
   "cell_type": "code",
   "execution_count": 10,
   "metadata": {},
   "outputs": [],
   "source": [
    "# dml_pliv_obj.evaluate_learners(metric=mean_squared_error)"
   ]
  },
  {
   "cell_type": "code",
   "execution_count": 11,
   "metadata": {},
   "outputs": [
    {
     "name": "stdout",
     "output_type": "stream",
     "text": [
      "1.5832088272869937\n",
      "0.16228326979355326\n",
      "0.2012579450793194\n"
     ]
    }
   ],
   "source": [
    "# First stage analysis: to judge first stage models\n",
    "\n",
    "#fit models\n",
    "y_pred_L=lasso_l.predict(x_lasso_test)\n",
    "p_pred_R=lasso_r.predict(x_lasso_test)\n",
    "z_pred_M=lasso_m.predict(x_lasso_test)\n",
    "#get residualized vars\n",
    "y_res_lasso=y_lasso_test-y_pred_L\n",
    "p_res_lasso=p_lasso_test-p_pred_R\n",
    "z_res_lasso=z_lasso_test-z_pred_M\n",
    "#get dataframe of test set only\n",
    "# testdf=df_log.iloc[p_res_lasso.reset_index()['index'],:]\n",
    "\n",
    "# #add residuals to test set in order to do visualization/analysis\n",
    "# testdf['y_res_lasso'] =y_res_lasso\n",
    "# testdf['p_res_lasso']=p_res_lasso\n",
    "# testdf['z_res_lasso']=z_res_lasso\n",
    "\n",
    "#print rmse of predictions\n",
    "print(mean_squared_error(y_lasso_test, y_pred_L,squared=True))\n",
    "print(mean_squared_error(p_lasso_test, p_pred_R,squared=True))\n",
    "print(mean_squared_error(z_lasso_test, z_pred_M,squared=True))"
   ]
  },
  {
   "cell_type": "markdown",
   "metadata": {},
   "source": [
    "First stage analysis"
   ]
  },
  {
   "cell_type": "code",
   "execution_count": 12,
   "metadata": {},
   "outputs": [
    {
     "data": {
      "text/plain": [
       "<AxesSubplot:xlabel='L_AVG_PURCHASE_PRICE', ylabel='L_AVG_SELL_PRICE'>"
      ]
     },
     "execution_count": 12,
     "metadata": {},
     "output_type": "execute_result"
    },
    {
     "data": {
      "image/png": "[encoded data removed]",
      "text/plain": [
       "<Figure size 432x288 with 1 Axes>"
      ]
     },
     "metadata": {
      "needs_background": "light"
     },
     "output_type": "display_data"
    }
   ],
   "source": [
    "sns.scatterplot(hue=y_res_lasso,y=p_res_lasso, x=z_res_lasso)"
   ]
  },
  {
   "cell_type": "code",
   "execution_count": 13,
   "metadata": {},
   "outputs": [
    {
     "data": {
      "text/plain": [
       "array([[1.       , 0.9264067],\n",
       "       [0.9264067, 1.       ]])"
      ]
     },
     "execution_count": 13,
     "metadata": {},
     "output_type": "execute_result"
    }
   ],
   "source": [
    "np.corrcoef(z_res_lasso,p_res_lasso)  # correlation between p and z -> if too low or high it is a weak instrument"
   ]
  },
  {
   "cell_type": "markdown",
   "metadata": {},
   "source": [
    "Using RForest 1st stage "
   ]
  },
  {
   "cell_type": "code",
   "execution_count": 14,
   "metadata": {},
   "outputs": [
    {
     "data": {
      "text/plain": [
       "(47920, 33)"
      ]
     },
     "execution_count": 14,
     "metadata": {},
     "output_type": "execute_result"
    }
   ],
   "source": [
    "dmlset_lasso_train.shape"
   ]
  },
  {
   "cell_type": "code",
   "execution_count": 15,
   "metadata": {},
   "outputs": [],
   "source": [
    "# fit first stage models\n",
    "rfor_l=RandomForestRegressor(max_features=0.65, n_estimators=500).fit(x_lasso_train, y_lasso_train)\n",
    "rfor_m=RandomForestRegressor(max_features=0.65, n_estimators=500).fit(x_lasso_train, z_lasso_train)\n",
    "rfor_r=RandomForestRegressor(max_features=0.65, n_estimators=500).fit(x_lasso_train, p_lasso_train)"
   ]
  },
  {
   "cell_type": "code",
   "execution_count": 16,
   "metadata": {},
   "outputs": [
    {
     "name": "stdout",
     "output_type": "stream",
     "text": [
      "================== DoubleMLPLIV Object ==================\n",
      "\n",
      "------------------ Data summary      ------------------\n",
      "Outcome variable: L_PRODUCT_ORDER_AMT\n",
      "Treatment variable(s): ['L_AVG_SELL_PRICE']\n",
      "Covariates: ['CONST', 'ARTICLE_TIER_BETTER', 'ARTICLE_TIER_GOOD', 'ART_BRAND_TIER_PRICE_ENTRY', 'ART_BRAND_TIER_PRIVATE_LABEL', 'PACKAGING_BOX', 'PACKAGING_CAN', 'PACKAGING_PACK', 'ARTICLE_CAT_2_DRINKPAKJES', 'ARTICLE_CAT_2_FRUITDRANK', 'ARTICLE_CAT_2_IJSTHEE', 'ARTICLE_CAT_2_LIMONADE_SIROPEN', 'ARTICLE_CAT_2_SAPPEN_SMOOTHIES', 'ARTICLE_CAT_2_SINAS_LEMON_CASSIS', 'ARTICLE_CAT_2_SPECIAAL_FRIS', 'ARTICLE_CAT_2_SPORT_ENERGYDRINK', 'PROMO_DUMMY', 'PPL2', 'PPL3', 'POSTPPL1', 'POSTPPL2', 'POSTPPL3', 'L_AVG_HIGH_TEMP', 'L_NR_ARTICLES_IN_CAT', 'L_NR_ARTICLES_IN_CAT_2', 'AVG_UNAVAILABILITY_PERC', 'ART_CONTENT_VOLUME', 'ART_IS_MULTIPACK', 'HOLIDAY', 'WEEK_NR']\n",
      "Instrument variable(s): ['L_AVG_PURCHASE_PRICE']\n",
      "No. Observations: 47920\n",
      "\n",
      "------------------ Score & algorithm ------------------\n",
      "Score function: partialling out\n",
      "DML algorithm: dml2\n",
      "\n",
      "------------------ Machine learner   ------------------\n",
      "Learner ml_l: RandomForestRegressor(max_features=0.65, n_estimators=500)\n",
      "Learner ml_m: RandomForestRegressor(max_features=0.65, n_estimators=500)\n",
      "Learner ml_r: RandomForestRegressor(max_features=0.65, n_estimators=500)\n",
      "\n",
      "------------------ Resampling        ------------------\n",
      "No. folds: 5\n",
      "No. repeated sample splits: 1\n",
      "Apply cross-fitting: True\n",
      "\n",
      "------------------ Fit summary       ------------------\n",
      "                      coef   std err         t         P>|t|     2.5 %  \\\n",
      "L_AVG_SELL_PRICE -0.505671  0.084232 -6.003338  1.933011e-09 -0.670762   \n",
      "\n",
      "                   97.5 %  \n",
      "L_AVG_SELL_PRICE -0.34058  \n"
     ]
    }
   ],
   "source": [
    "#create data object\n",
    "obj_dml_data = dml.DoubleMLData(dmlset_lasso_train, 'L_PRODUCT_ORDER_AMT', 'L_AVG_SELL_PRICE', z_cols='L_AVG_PURCHASE_PRICE')\n",
    "#run DML model\n",
    "dml_pliv_obj = dml.DoubleMLPLIV(obj_dml_data, rfor_l, rfor_m, rfor_r)\n",
    "#print output\n",
    "print(dml_pliv_obj.fit().bootstrap())"
   ]
  },
  {
   "cell_type": "code",
   "execution_count": 17,
   "metadata": {},
   "outputs": [],
   "source": [
    "# dml_pliv_obj.evaluate_learners(metric=mean_squared_error)"
   ]
  },
  {
   "cell_type": "markdown",
   "metadata": {},
   "source": [
    "First stage analysis"
   ]
  },
  {
   "cell_type": "code",
   "execution_count": 18,
   "metadata": {},
   "outputs": [
    {
     "name": "stdout",
     "output_type": "stream",
     "text": [
      "1.0575779681437634\n",
      "0.00955654181517728\n",
      "0.007609930298485958\n"
     ]
    }
   ],
   "source": [
    "# do predictions and residualize variables in order to do analysis/judgement of first stage\n",
    "# \n",
    "y_pred_L=rfor_l.predict(x_lasso_test)\n",
    "p_pred_R=rfor_r.predict(x_lasso_test)\n",
    "z_pred_M=rfor_m.predict(x_lasso_test)\n",
    "#get residualized vars\n",
    "y_res_rfor=y_lasso_test-y_pred_L\n",
    "p_res_rfor=p_lasso_test-p_pred_R\n",
    "z_res_rfor=z_lasso_test-z_pred_M\n",
    "#get dataframe of test set only\n",
    "# testdf=df_log.iloc[p_res_lasso.reset_index()['index'],:]\n",
    "# add residualized variables to test set such that you can compare them to columns to see potential correlations\n",
    "# testdf['y_res_rfor'] =y_res_rfor\n",
    "# testdf['p_res_rfor']=p_res_rfor\n",
    "# testdf['z_res_rfor']=z_res_rfor\n",
    "#get rmse of predictions\n",
    "print(mean_squared_error(y_lasso_test, y_pred_L,squared=True))\n",
    "print(mean_squared_error(p_lasso_test, p_pred_R,squared=True))\n",
    "print(mean_squared_error(z_lasso_test, z_pred_M,squared=True))"
   ]
  },
  {
   "cell_type": "markdown",
   "metadata": {},
   "source": [
    "visual analysis of residualized variables:"
   ]
  },
  {
   "cell_type": "code",
   "execution_count": 19,
   "metadata": {},
   "outputs": [
    {
     "data": {
      "text/plain": [
       "array([[1.        , 0.59175161],\n",
       "       [0.59175161, 1.        ]])"
      ]
     },
     "execution_count": 19,
     "metadata": {},
     "output_type": "execute_result"
    }
   ],
   "source": [
    "np.corrcoef(z_res_rfor,p_res_rfor) # correlation between p and z -> if too low or high it is a weak instrument"
   ]
  },
  {
   "cell_type": "markdown",
   "metadata": {},
   "source": [
    "Using XGB first stage "
   ]
  },
  {
   "cell_type": "markdown",
   "metadata": {},
   "source": [
    "First replace -inf with nan, as xgboost can handle nan values (but no -inf)"
   ]
  },
  {
   "cell_type": "code",
   "execution_count": 20,
   "metadata": {},
   "outputs": [],
   "source": [
    "#xgboost can handle np.nan (instead of -inf): - this is for the lagged demand variable which has value of -infinity in case of zero demand (after log transformation of data)\n",
    "df_log.replace([-np.inf], np.nan, inplace=True)\n",
    "df_log.replace([-np.inf], np.nan, inplace=True)"
   ]
  },
  {
   "cell_type": "code",
   "execution_count": 21,
   "metadata": {},
   "outputs": [],
   "source": [
    "# XGBoost new data partition, because of different imputed value for lagged demand\n",
    "x= df_log[['CONST','ARTICLE_TIER_BETTER', 'ARTICLE_TIER_GOOD',\n",
    "       'ART_BRAND_TIER_PRICE_ENTRY', 'ART_BRAND_TIER_PRIVATE_LABEL',\n",
    "       'PACKAGING_BOX', 'PACKAGING_CAN', 'PACKAGING_PACK',\n",
    "       'ARTICLE_CAT_2_DRINKPAKJES', 'ARTICLE_CAT_2_FRUITDRANK',\n",
    "       'ARTICLE_CAT_2_IJSTHEE', 'ARTICLE_CAT_2_LIMONADE_SIROPEN',\n",
    "       'ARTICLE_CAT_2_SAPPEN_SMOOTHIES', 'ARTICLE_CAT_2_SINAS_LEMON_CASSIS',\n",
    "       'ARTICLE_CAT_2_SPECIAAL_FRIS', 'ARTICLE_CAT_2_SPORT_ENERGYDRINK',\n",
    "       # 'ARTICLE_CAT_2_WATER', \n",
    "       'PROMO_DUMMY', 'PPL2','PPL3', 'POSTPPL1', 'POSTPPL2',\n",
    "       'POSTPPL3', 'L_AVG_HIGH_TEMP'#,'L_TOTAL_ORDER_AMT'\n",
    "       ,'L_NR_ARTICLES_IN_CAT', \n",
    "       'L_NR_ARTICLES_IN_CAT_2',# 'L_WEEK_NR',\n",
    "       'AVG_UNAVAILABILITY_PERC',\n",
    "       'ART_CONTENT_VOLUME', 'ART_IS_MULTIPACK', \n",
    "       # 'L_PRODUCT_ORDER_AMT_T_2_m','L_PRODUCT_ORDER_AMT_T_1_m' \n",
    "       # 'L_PRODUCT_ORDER_AMT_T_1', 'L_PRODUCT_ORDER_AMT_T_2',\n",
    "       'HOLIDAY','WEEK_NR'\n",
    "       ]]\n",
    "y = df_log['L_PRODUCT_ORDER_AMT']\n",
    "p = df_log['L_AVG_SELL_PRICE']\n",
    "z = df_log['L_AVG_PURCHASE_PRICE']\n",
    "\n",
    "dmlset=x.join(y.to_frame().join(p.to_frame().join(z.to_frame()))) #needed in dml algortihm"
   ]
  },
  {
   "cell_type": "code",
   "execution_count": 22,
   "metadata": {},
   "outputs": [],
   "source": [
    "x_train, x_test, y_train, y_test, p_train, p_test, z_train, z_test, dmlset_train, dmlset_test = train_test_split(x,y,p,z,dmlset,random_state=44) #in case want to see how first stages perform"
   ]
  },
  {
   "cell_type": "markdown",
   "metadata": {},
   "source": [
    "DML Model: XGB"
   ]
  },
  {
   "cell_type": "code",
   "execution_count": 23,
   "metadata": {},
   "outputs": [
    {
     "name": "stdout",
     "output_type": "stream",
     "text": [
      "================== DoubleMLPLIV Object ==================\n",
      "\n",
      "------------------ Data summary      ------------------\n",
      "Outcome variable: L_PRODUCT_ORDER_AMT\n",
      "Treatment variable(s): ['L_AVG_SELL_PRICE']\n",
      "Covariates: ['CONST', 'ARTICLE_TIER_BETTER', 'ARTICLE_TIER_GOOD', 'ART_BRAND_TIER_PRICE_ENTRY', 'ART_BRAND_TIER_PRIVATE_LABEL', 'PACKAGING_BOX', 'PACKAGING_CAN', 'PACKAGING_PACK', 'ARTICLE_CAT_2_DRINKPAKJES', 'ARTICLE_CAT_2_FRUITDRANK', 'ARTICLE_CAT_2_IJSTHEE', 'ARTICLE_CAT_2_LIMONADE_SIROPEN', 'ARTICLE_CAT_2_SAPPEN_SMOOTHIES', 'ARTICLE_CAT_2_SINAS_LEMON_CASSIS', 'ARTICLE_CAT_2_SPECIAAL_FRIS', 'ARTICLE_CAT_2_SPORT_ENERGYDRINK', 'PROMO_DUMMY', 'PPL2', 'PPL3', 'POSTPPL1', 'POSTPPL2', 'POSTPPL3', 'L_AVG_HIGH_TEMP', 'L_NR_ARTICLES_IN_CAT', 'L_NR_ARTICLES_IN_CAT_2', 'AVG_UNAVAILABILITY_PERC', 'ART_CONTENT_VOLUME', 'ART_IS_MULTIPACK', 'HOLIDAY', 'WEEK_NR']\n",
      "Instrument variable(s): ['L_AVG_PURCHASE_PRICE']\n",
      "No. Observations: 47920\n",
      "\n",
      "------------------ Score & algorithm ------------------\n",
      "Score function: partialling out\n",
      "DML algorithm: dml2\n",
      "\n",
      "------------------ Machine learner   ------------------\n",
      "Learner ml_l: XGBRegressor(base_score=None, booster=None, callbacks=None,\n",
      "             colsample_bylevel=None, colsample_bynode=None, colsample_bytree=1,\n",
      "             early_stopping_rounds=None, enable_categorical=False,\n",
      "             eval_metric=None, feature_types=None, gamma=0, gpu_id=None,\n",
      "             grow_policy=None, importance_type=None,\n",
      "             interaction_constraints=None, learning_rate=0.2, max_bin=None,\n",
      "             max_cat_threshold=None, max_cat_to_onehot=None,\n",
      "             max_delta_step=None, max_depth=None, max_leaves=None,\n",
      "             min_child_weight=None, missing=nan, monotone_constraints=None,\n",
      "             n_estimators=500, n_jobs=None, num_parallel_tree=None,\n",
      "             predictor=None, random_state=None, ...)\n",
      "Learner ml_m: XGBRegressor(base_score=None, booster=None, callbacks=None,\n",
      "             colsample_bylevel=None, colsample_bynode=None, colsample_bytree=1,\n",
      "             early_stopping_rounds=None, enable_categorical=False,\n",
      "             eval_metric=None, feature_types=None, gamma=0, gpu_id=None,\n",
      "             grow_policy=None, importance_type=None,\n",
      "             interaction_constraints=None, learning_rate=0.2, max_bin=None,\n",
      "             max_cat_threshold=None, max_cat_to_onehot=None,\n",
      "             max_delta_step=None, max_depth=None, max_leaves=None,\n",
      "             min_child_weight=None, missing=nan, monotone_constraints=None,\n",
      "             n_estimators=500, n_jobs=None, num_parallel_tree=None,\n",
      "             predictor=None, random_state=None, ...)\n",
      "Learner ml_r: XGBRegressor(base_score=None, booster=None, callbacks=None,\n",
      "             colsample_bylevel=None, colsample_bynode=None, colsample_bytree=1,\n",
      "             early_stopping_rounds=None, enable_categorical=False,\n",
      "             eval_metric=None, feature_types=None, gamma=0, gpu_id=None,\n",
      "             grow_policy=None, importance_type=None,\n",
      "             interaction_constraints=None, learning_rate=0.2, max_bin=None,\n",
      "             max_cat_threshold=None, max_cat_to_onehot=None,\n",
      "             max_delta_step=None, max_depth=None, max_leaves=None,\n",
      "             min_child_weight=None, missing=nan, monotone_constraints=None,\n",
      "             n_estimators=500, n_jobs=None, num_parallel_tree=None,\n",
      "             predictor=None, random_state=None, ...)\n",
      "\n",
      "------------------ Resampling        ------------------\n",
      "No. folds: 5\n",
      "No. repeated sample splits: 1\n",
      "Apply cross-fitting: True\n",
      "\n",
      "------------------ Fit summary       ------------------\n",
      "                      coef   std err         t     P>|t|    2.5 %    97.5 %\n",
      "L_AVG_SELL_PRICE -0.364498  0.077242 -4.718882  0.000002 -0.51589 -0.213105\n"
     ]
    }
   ],
   "source": [
    "# fit first stages \n",
    "xgbr_l=xgb.XGBRegressor(colsample_bytree= 1, gamma= 0, learning_rate= 0.2, max_depth= None, n_estimators= 500).fit(x_train,y_train)\n",
    "xgbr_m=xgb.XGBRegressor(colsample_bytree= 1, gamma= 0, learning_rate= 0.2, max_depth= None, n_estimators= 500).fit(x_train,z_train)\n",
    "xgbr_r=xgb.XGBRegressor(colsample_bytree= 1, gamma= 0, learning_rate= 0.2, max_depth= None, n_estimators= 500).fit(x_train,p_train)\n",
    "# create data object\n",
    "obj_dml_data = dml.DoubleMLData(dmlset_train, 'L_PRODUCT_ORDER_AMT', 'L_AVG_SELL_PRICE', z_cols='L_AVG_PURCHASE_PRICE',force_all_x_finite='allow-nan')\n",
    "# run model\n",
    "dml_pliv_obj = dml.DoubleMLPLIV(obj_dml_data, xgbr_l, xgbr_m, xgbr_r, )\n",
    "#print output\n",
    "print(dml_pliv_obj.fit().bootstrap())"
   ]
  },
  {
   "cell_type": "code",
   "execution_count": 24,
   "metadata": {},
   "outputs": [
    {
     "data": {
      "text/plain": [
       "(63894, 33)"
      ]
     },
     "execution_count": 24,
     "metadata": {},
     "output_type": "execute_result"
    }
   ],
   "source": [
    "dmlset.shape"
   ]
  },
  {
   "cell_type": "code",
   "execution_count": 25,
   "metadata": {},
   "outputs": [],
   "source": [
    "# dml_pliv_obj.evaluate_learners(metric=mean_squared_error)"
   ]
  },
  {
   "cell_type": "markdown",
   "metadata": {},
   "source": [
    "For first stage model evaluation:"
   ]
  },
  {
   "cell_type": "code",
   "execution_count": 26,
   "metadata": {},
   "outputs": [
    {
     "name": "stdout",
     "output_type": "stream",
     "text": [
      "0.9098951610783751\n",
      "0.009426357898096807\n",
      "0.008118859619133195\n"
     ]
    }
   ],
   "source": [
    "#get residualized vars for test set\n",
    "y_res=y_test-xgbr_l.predict(x_test)\n",
    "p_res=p_test-xgbr_r.predict(x_test)\n",
    "z_res=z_test-xgbr_m.predict(x_test)\n",
    "# add them to test set in order to compare with other variables\n",
    "# testdf['y_res'] =y_res\n",
    "# testdf['p_res']=p_res\n",
    "# testdf['z_res']=z_res\n",
    "#print rmse of first stage prediction\n",
    "print(mean_squared_error(y_lasso_test, xgbr_l.predict(x_test),squared=True))\n",
    "print(mean_squared_error(p_lasso_test, xgbr_r.predict(x_test),squared=True))\n",
    "print(mean_squared_error(z_lasso_test, xgbr_m.predict(x_test),squared=True))"
   ]
  },
  {
   "cell_type": "markdown",
   "metadata": {},
   "source": [
    "First stage evaluation"
   ]
  },
  {
   "cell_type": "code",
   "execution_count": 27,
   "metadata": {},
   "outputs": [
    {
     "data": {
      "text/plain": [
       "array([[1.        , 0.59174086],\n",
       "       [0.59174086, 1.        ]])"
      ]
     },
     "execution_count": 27,
     "metadata": {},
     "output_type": "execute_result"
    }
   ],
   "source": [
    "np.corrcoef(z_res,p_res) # correlation between p and z -> if too low or high it is a weak instrument"
   ]
  },
  {
   "cell_type": "code",
   "execution_count": 28,
   "metadata": {},
   "outputs": [
    {
     "data": {
      "text/plain": [
       "array([[1.        , 0.93905408],\n",
       "       [0.93905408, 1.        ]])"
      ]
     },
     "execution_count": 28,
     "metadata": {},
     "output_type": "execute_result"
    }
   ],
   "source": [
    "np.corrcoef(z,p) # correlation before transforming/residualizing (baseline)"
   ]
  },
  {
   "cell_type": "markdown",
   "metadata": {},
   "source": [
    "Comparing the Lasso and XGB first stages for residualizing Z and P --> to see with which first stage transforms the correlation between P and Z the most/least"
   ]
  },
  {
   "cell_type": "code",
   "execution_count": 29,
   "metadata": {},
   "outputs": [
    {
     "data": {
      "text/plain": [
       "<matplotlib.legend.Legend at 0x201472c7be0>"
      ]
     },
     "execution_count": 29,
     "metadata": {},
     "output_type": "execute_result"
    },
    {
     "data": {
      "image/png": "[encoded data removed]",
      "text/plain": [
       "<Figure size 432x288 with 1 Axes>"
      ]
     },
     "metadata": {
      "needs_background": "light"
     },
     "output_type": "display_data"
    }
   ],
   "source": [
    "sns.scatterplot(y=p_res_lasso,x=z_res_lasso)\n",
    "sns.scatterplot(y=p_res,x=z_res)\n",
    "sns.scatterplot(y=p_test,x=z_test)\n",
    "plt.xlabel('Z')\n",
    "plt.ylabel('P')\n",
    "plt.legend(labels=['Residualized by Lasso', 'Residualized by XGB', 'No orthogonalization'])"
   ]
  },
  {
   "cell_type": "code",
   "execution_count": null,
   "metadata": {},
   "outputs": [],
   "source": []
  },
  {
   "cell_type": "code",
   "execution_count": null,
   "metadata": {},
   "outputs": [],
   "source": []
  },
  {
   "cell_type": "code",
   "execution_count": null,
   "metadata": {},
   "outputs": [],
   "source": []
  }
 ],
 "metadata": {
  "kernelspec": {
   "display_name": "base",
   "language": "python",
   "name": "python3"
  },
  "language_info": {
   "codemirror_mode": {
    "name": "ipython",
    "version": 3
   },
   "file_extension": ".py",
   "mimetype": "text/x-python",
   "name": "python",
   "nbconvert_exporter": "python",
   "pygments_lexer": "ipython3",
   "version": "3.9.12"
  },
  "orig_nbformat": 4
 },
 "nbformat": 4,
 "nbformat_minor": 2
}
